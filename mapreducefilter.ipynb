{
 "cells": [
  {
   "cell_type": "code",
   "execution_count": 1,
   "id": "cdb26fb6-0af8-42c0-a6d8-12cabe8dab7d",
   "metadata": {},
   "outputs": [],
   "source": [
    "l=[1,2,3,4,5,6]"
   ]
  },
  {
   "cell_type": "code",
   "execution_count": 3,
   "id": "518acb9f-cc0c-421f-8069-ffeffd6b8177",
   "metadata": {},
   "outputs": [],
   "source": [
    "def test(l):\n",
    "    l1=[]\n",
    "    for i in l:\n",
    "        l1.append(i**2)\n",
    "    return l1"
   ]
  },
  {
   "cell_type": "code",
   "execution_count": 4,
   "id": "e4ed4d55-66e5-4f01-87ec-998c564a74a5",
   "metadata": {},
   "outputs": [
    {
     "ename": "NameError",
     "evalue": "name 'l1' is not defined",
     "output_type": "error",
     "traceback": [
      "\u001b[0;31m---------------------------------------------------------------------------\u001b[0m",
      "\u001b[0;31mNameError\u001b[0m                                 Traceback (most recent call last)",
      "Cell \u001b[0;32mIn[4], line 1\u001b[0m\n\u001b[0;32m----> 1\u001b[0m test(\u001b[43ml1\u001b[49m)\n",
      "\u001b[0;31mNameError\u001b[0m: name 'l1' is not defined"
     ]
    }
   ],
   "source": [
    "test(l1)"
   ]
  },
  {
   "cell_type": "code",
   "execution_count": 5,
   "id": "cf5ce6cd-e007-4780-ada7-bc0b868941b2",
   "metadata": {},
   "outputs": [
    {
     "data": {
      "text/plain": [
       "[1, 2, 3, 4, 5, 6]"
      ]
     },
     "execution_count": 5,
     "metadata": {},
     "output_type": "execute_result"
    }
   ],
   "source": [
    "l"
   ]
  },
  {
   "cell_type": "code",
   "execution_count": 6,
   "id": "dabec2e5-54f3-4b51-951d-a331784b82f3",
   "metadata": {},
   "outputs": [],
   "source": [
    "def test(l):\n",
    "    l1=[]\n",
    "    for i in l:\n",
    "        l1.append(i**2)\n",
    "    return l1"
   ]
  },
  {
   "cell_type": "markdown",
   "id": "6e3bda59-2c6c-454e-914d-02d741fcbd09",
   "metadata": {},
   "source": [
    "test(l1)"
   ]
  },
  {
   "cell_type": "code",
   "execution_count": 10,
   "id": "7de2de4b-8b92-4e97-ba43-adb918456d14",
   "metadata": {},
   "outputs": [
    {
     "data": {
      "text/plain": [
       "[1, 2, 3, 4, 5, 6]"
      ]
     },
     "execution_count": 10,
     "metadata": {},
     "output_type": "execute_result"
    }
   ],
   "source": [
    "l"
   ]
  },
  {
   "cell_type": "code",
   "execution_count": 12,
   "id": "468f153c-2265-4bcd-9712-302fc3796231",
   "metadata": {},
   "outputs": [
    {
     "data": {
      "text/plain": [
       "[1, 4, 9, 16, 25, 36]"
      ]
     },
     "execution_count": 12,
     "metadata": {},
     "output_type": "execute_result"
    }
   ],
   "source": [
    "def test(l):\n",
    "    l1 = []\n",
    "    for i in l:\n",
    "        l1.append(i**2)\n",
    "    return l1\n",
    "test(l)"
   ]
  },
  {
   "cell_type": "markdown",
   "id": "fa840d4f-e3cd-4c23-a93e-cf2ff8d9d1a8",
   "metadata": {},
   "source": [
    "#map ,reduce ,filter function"
   ]
  },
  {
   "cell_type": "code",
   "execution_count": 14,
   "id": "1fce7203-b7d1-48b8-a0f7-14bab1e10759",
   "metadata": {},
   "outputs": [
    {
     "data": {
      "text/plain": [
       "[1, 2, 3, 4, 5, 6]"
      ]
     },
     "execution_count": 14,
     "metadata": {},
     "output_type": "execute_result"
    }
   ],
   "source": [
    "l"
   ]
  },
  {
   "cell_type": "code",
   "execution_count": 15,
   "id": "7d57fc0c-8f29-4096-8cc9-d6e4d1543716",
   "metadata": {},
   "outputs": [],
   "source": [
    "def sq(x):\n",
    "    return x**2"
   ]
  },
  {
   "cell_type": "code",
   "execution_count": 16,
   "id": "d4c80342-1766-435a-879e-c4ea1ff1442f",
   "metadata": {},
   "outputs": [
    {
     "data": {
      "text/plain": [
       "<map at 0x7ffb24457a90>"
      ]
     },
     "execution_count": 16,
     "metadata": {},
     "output_type": "execute_result"
    }
   ],
   "source": [
    "map(sq,l)"
   ]
  },
  {
   "cell_type": "code",
   "execution_count": 17,
   "id": "eb0ef5b0-70d5-42a8-9e29-4c391215eae5",
   "metadata": {},
   "outputs": [
    {
     "data": {
      "text/plain": [
       "[1, 4, 9, 16, 25, 36]"
      ]
     },
     "execution_count": 17,
     "metadata": {},
     "output_type": "execute_result"
    }
   ],
   "source": [
    "list(map(sq,l))"
   ]
  },
  {
   "cell_type": "code",
   "execution_count": 19,
   "id": "0422affe-ef74-498a-ae3b-cb84d7350cff",
   "metadata": {},
   "outputs": [
    {
     "data": {
      "text/plain": [
       "[49, 64, 81, 100, 1156, 4225]"
      ]
     },
     "execution_count": 19,
     "metadata": {},
     "output_type": "execute_result"
    }
   ],
   "source": [
    "l1=[7,8,9,10,34,65]\n",
    "def sq(x):\n",
    "    return x**2\n",
    "list(map(sq,l1))"
   ]
  },
  {
   "cell_type": "code",
   "execution_count": 20,
   "id": "c9162f2f-6a06-41cc-9cb0-f1ba4a0b23e5",
   "metadata": {},
   "outputs": [
    {
     "data": {
      "text/plain": [
       "[4489, 2916, 7744, 9801]"
      ]
     },
     "execution_count": 20,
     "metadata": {},
     "output_type": "execute_result"
    }
   ],
   "source": [
    "l2=[67,54,88,99]\n",
    "def sq(x):\n",
    "    return x**2\n",
    "list(map(sq,l2))"
   ]
  },
  {
   "cell_type": "code",
   "execution_count": 21,
   "id": "0d18ba7d-aa66-48f6-9672-022270bd3891",
   "metadata": {},
   "outputs": [
    {
     "data": {
      "text/plain": [
       "[4489, 2916, 7744, 9801]"
      ]
     },
     "execution_count": 21,
     "metadata": {},
     "output_type": "execute_result"
    }
   ],
   "source": [
    "list(map(lambda x: x**2,l2))"
   ]
  },
  {
   "cell_type": "code",
   "execution_count": 26,
   "id": "65d7a31b-5e4e-4485-8a2e-83fa9ddb8a93",
   "metadata": {},
   "outputs": [
    {
     "data": {
      "text/plain": [
       "[17, 9, 11, 13, 15]"
      ]
     },
     "execution_count": 26,
     "metadata": {},
     "output_type": "execute_result"
    }
   ],
   "source": [
    "l3=[11,2,3,4,5]\n",
    "l4=[6,7,8,9,10]\n",
    "\n",
    "list (map(lambda x,y :x+y,l3,l4))"
   ]
  },
  {
   "cell_type": "code",
   "execution_count": 27,
   "id": "9ebbafb1-502c-4b8e-a1e3-482cdf89aa8f",
   "metadata": {},
   "outputs": [],
   "source": [
    "# doubt no 1 - if l3=[11,2,3,4,5,89]\n",
    "                  # l4=[6,7,8,9,10]\n",
    "    # then \n",
    "# list (map(lambda x,y :x+y,l3,l4)) is not working \n",
    "# because the no.of arguments are not samne in both the list\n",
    "    \n",
    "                  "
   ]
  },
  {
   "cell_type": "code",
   "execution_count": 28,
   "id": "e44e910d-9e97-46d2-8be9-b2392ac3d647",
   "metadata": {},
   "outputs": [
    {
     "data": {
      "text/plain": [
       "[11, 2, 3, 4, 5]"
      ]
     },
     "execution_count": 28,
     "metadata": {},
     "output_type": "execute_result"
    }
   ],
   "source": [
    "l3"
   ]
  },
  {
   "cell_type": "code",
   "execution_count": 29,
   "id": "83941742-71f2-4ae6-ad77-c829945c6d61",
   "metadata": {},
   "outputs": [
    {
     "data": {
      "text/plain": [
       "[6, 7, 8, 9, 10]"
      ]
     },
     "execution_count": 29,
     "metadata": {},
     "output_type": "execute_result"
    }
   ],
   "source": [
    "l4"
   ]
  },
  {
   "cell_type": "code",
   "execution_count": 30,
   "id": "280f9893-7db0-42e6-b249-2917858fa174",
   "metadata": {},
   "outputs": [],
   "source": [
    "def add(x,y):\n",
    "    return x+y"
   ]
  },
  {
   "cell_type": "code",
   "execution_count": 31,
   "id": "7e158b40-99da-42b8-9bfb-b0f45b2368b8",
   "metadata": {},
   "outputs": [
    {
     "data": {
      "text/plain": [
       "[17, 9, 11, 13, 15]"
      ]
     },
     "execution_count": 31,
     "metadata": {},
     "output_type": "execute_result"
    }
   ],
   "source": [
    "list(map(add,l3,l4))"
   ]
  },
  {
   "cell_type": "code",
   "execution_count": 39,
   "id": "eda02cbc-e989-4f64-a6a3-48eb94dafb2d",
   "metadata": {},
   "outputs": [
    {
     "data": {
      "text/plain": [
       "['S', 'O', 'N', 'A']"
      ]
     },
     "execution_count": 39,
     "metadata": {},
     "output_type": "execute_result"
    }
   ],
   "source": [
    "s = \"sona\"\n",
    "list(map(lambda s: s.upper(),s))"
   ]
  },
  {
   "cell_type": "markdown",
   "id": "1ccdab34-c1e0-433a-ba3c-48ef43c5c315",
   "metadata": {},
   "source": [
    "# reduce function"
   ]
  },
  {
   "cell_type": "code",
   "execution_count": 34,
   "id": "03c416cd-2334-4677-826e-577797101651",
   "metadata": {},
   "outputs": [
    {
     "data": {
      "text/plain": [
       "45"
      ]
     },
     "execution_count": 34,
     "metadata": {},
     "output_type": "execute_result"
    }
   ],
   "source": [
    "from functools import reduce \n",
    "l = [1,2,3,4,5,6,7,8,9]\n",
    "reduce(lambda x,y: x+y,l)"
   ]
  },
  {
   "cell_type": "code",
   "execution_count": 35,
   "id": "63eed246-09f3-4003-b2a5-9a8db8c818ab",
   "metadata": {},
   "outputs": [
    {
     "data": {
      "text/plain": [
       "1"
      ]
     },
     "execution_count": 35,
     "metadata": {},
     "output_type": "execute_result"
    }
   ],
   "source": [
    "reduce(lambda x,y: x+y,[1])"
   ]
  },
  {
   "cell_type": "code",
   "execution_count": 36,
   "id": "b33c7cba-40e1-497b-950a-97d79bfaf85f",
   "metadata": {},
   "outputs": [
    {
     "data": {
      "text/plain": [
       "362880"
      ]
     },
     "execution_count": 36,
     "metadata": {},
     "output_type": "execute_result"
    }
   ],
   "source": [
    "reduce(lambda x,y :x*y,l)"
   ]
  },
  {
   "cell_type": "code",
   "execution_count": 37,
   "id": "8cf59692-0f84-4d26-8ee6-b6eebba47104",
   "metadata": {},
   "outputs": [
    {
     "data": {
      "text/plain": [
       "9"
      ]
     },
     "execution_count": 37,
     "metadata": {},
     "output_type": "execute_result"
    }
   ],
   "source": [
    "reduce(lambda x,y : x if x>y else y,l)"
   ]
  },
  {
   "cell_type": "markdown",
   "id": "193e9aa5-04eb-40fb-aade-3e1ed13adabd",
   "metadata": {},
   "source": [
    "filter function"
   ]
  },
  {
   "cell_type": "code",
   "execution_count": 42,
   "id": "74dd1800-d30e-4af0-b626-8768bb2e065e",
   "metadata": {},
   "outputs": [
    {
     "data": {
      "text/plain": [
       "[2, 4, 6]"
      ]
     },
     "execution_count": 42,
     "metadata": {},
     "output_type": "execute_result"
    }
   ],
   "source": [
    "l =[1,2,3,4,5,6]\n",
    "list(filter(lambda x:  x%2 == 0,l))"
   ]
  },
  {
   "cell_type": "code",
   "execution_count": 43,
   "id": "29fc5750-e170-4bb1-8a06-035f7d89437d",
   "metadata": {},
   "outputs": [],
   "source": [
    "l=[1,2,3,4,5,6,7,8]"
   ]
  },
  {
   "cell_type": "code",
   "execution_count": 44,
   "id": "9742ce09-3e7b-4c65-b27e-760f276de3d4",
   "metadata": {},
   "outputs": [
    {
     "data": {
      "text/plain": [
       "[1, 3, 5, 7]"
      ]
     },
     "execution_count": 44,
     "metadata": {},
     "output_type": "execute_result"
    }
   ],
   "source": [
    "list(filter(lambda x: x%2 != 0,l))"
   ]
  },
  {
   "cell_type": "code",
   "execution_count": 45,
   "id": "99243e0c-3a88-4b0d-9c02-05265cc101b3",
   "metadata": {},
   "outputs": [
    {
     "data": {
      "text/plain": [
       "[-3, -7, -5]"
      ]
     },
     "execution_count": 45,
     "metadata": {},
     "output_type": "execute_result"
    }
   ],
   "source": [
    "l1=[-3,6,-7,-5,98,54]\n",
    "list(filter(lambda x : x <0 ,l1))"
   ]
  },
  {
   "cell_type": "code",
   "execution_count": 46,
   "id": "975eb29c-a43b-4109-81ed-251c676f30b1",
   "metadata": {},
   "outputs": [],
   "source": [
    "l2=[\"tapan\",\"pwskills\",\"kumar\",\"bbsr\",\"pati\"]"
   ]
  },
  {
   "cell_type": "code",
   "execution_count": 47,
   "id": "fb2b1160-90ac-4c15-9928-92eaf6791924",
   "metadata": {},
   "outputs": [
    {
     "data": {
      "text/plain": [
       "['tapan', 'kumar', 'bbsr', 'pati']"
      ]
     },
     "execution_count": 47,
     "metadata": {},
     "output_type": "execute_result"
    }
   ],
   "source": [
    "list(filter(lambda x: len(x) < 6,l2))"
   ]
  },
  {
   "cell_type": "code",
   "execution_count": null,
   "id": "951a34d6-bd64-4b8c-ab2d-0e6247fc1922",
   "metadata": {},
   "outputs": [],
   "source": []
  }
 ],
 "metadata": {
  "kernelspec": {
   "display_name": "Python 3 (ipykernel)",
   "language": "python",
   "name": "python3"
  },
  "language_info": {
   "codemirror_mode": {
    "name": "ipython",
    "version": 3
   },
   "file_extension": ".py",
   "mimetype": "text/x-python",
   "name": "python",
   "nbconvert_exporter": "python",
   "pygments_lexer": "ipython3",
   "version": "3.10.8"
  }
 },
 "nbformat": 4,
 "nbformat_minor": 5
}
